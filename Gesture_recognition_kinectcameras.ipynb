{
  "nbformat": 4,
  "nbformat_minor": 0,
  "metadata": {
    "colab": {
      "name": "Copy of MVIS_classify.ipynb",
      "version": "0.3.2",
      "provenance": [],
      "collapsed_sections": [
        "ezINRxQz38Kx"
      ]
    },
    "kernelspec": {
      "name": "python3",
      "display_name": "Python 3"
    },
    "accelerator": "TPU"
  },
  "cells": [
    {
      "cell_type": "markdown",
      "metadata": {
        "id": "DjkgZQWR38IO",
        "colab_type": "text"
      },
      "source": [
        "# KINECT CAMERA GESTURE RECOGNITION KERAS [RAHUL TAPPETLA]\n",
        "\n",
        "The goal of this task is to understand your approach in solving a hand gesture classification problem using a dataset comprising of depth images obtained from a Kinect v2 Camera (obtained from [Kaggle](https://www.kaggle.com/gti-upm/depthgestrecog) and redistributed under the [Creative Commons Attribution-NonCommercial-ShareAlike 4.0 License)](https://creativecommons.org/licenses/by-nc-sa/4.0/legalcode). \n",
        "\n",
        "The database is composed by 11 different hand-gestures that are performed by 6 different subjects. The goal of the task is to classify a given frame into one of the 11 gesture classes. The dataset consists of static and dynamic(time-varying gestures: like palm_lr, thumb_ud). For the purpose of this task you can choose to consider all gestures to be static and time-independent.\n",
        "\n",
        "The database is structured in different folders as (a detailed description can be found below):\n",
        "\n",
        "    /fist (fist hand-gesture)\n",
        "        /fist/video_base_1 (base fist hand-gesture of subject 1)\n",
        "            /fist/video_base_1/s01_g10_011_1.png,...,s01_g10_050_1.png,...\n",
        "        /fist/video_base_2 (base fist hand-gesture of subject 2)\n",
        "            /fist/video_base_2/s02_g10_011_1.png,...,s02_g10_050_1.png,...\n",
        "        /fist/video_base_6 (base fist hand-gesture of subject 6)\n",
        "            /fist/video_base_6/s06_g10_011_1.png,...,s06_g10_050_1.png,...\n",
        "        /fist/video_moved_1_1 (moved up fist hand-gesture of subject 1)\n",
        "            /fist/video_moved_1_1/s01_g10_011_2.png,...,s01_g10_050_2.png,...\n",
        "        /fist/video_moved_1_2 (moved down fist hand-gesture of subject 1)\n",
        "            /fist/video_moved_1_2/s01_g10_011_3.png,...,s01_g10_050_3.png,...\n",
        "        /fist/video_moved_1_8 (moved up and left fist hand-gesture of subject 1)\n",
        "        /fist/video_moved_1_8/s01_g10_011_9.png,...,s01_g10_050_9.png,...\n",
        "        /fist/video_moved_6_1 (moved up fist hand-gesture of subject 6)\n",
        "        /fist/video_moved_6_8 (moved up and left fist hand-gesture of subject 6)\n",
        "    /grab\n",
        "    /one_finger\n",
        "    /palm (palm hand-gesture)\n",
        "    /thumb_ud\n",
        "\n",
        "Every root folder (fist, grab,...) contains the range images of one hand-gesture. The folder name is the identifier of the hand-gesture (for example fist, palm, thumb_ud,...).\n",
        "\n",
        "Inside every root folder, there are 54 folders: 6 of them are the base hand-gestures (/fist/video_base_1,...,/fist/video_base_2) and the others are the moved hand-gestures used to increment the training samples (/fist/video_moved_1_1,...,/fist/video_moved_1_8,...,/fist/video_moved_6_1,...,/fist_video_moved_6_8). Inside every subfolder, there are a set of range hand images that can be true/positive samples or false/negative samples. The structure of the name of each frame is the same: sXX_gYY_ZZZ_M.png where: - XX is the subject identifier. - YY is the gesture identifier. - ZZZ is the number of the frame. - M indicates if the frame belongs to the base video (M = 1) or if it belongs to a moved video (M=2,...9).\n",
        "\n",
        "For example, the frame 's02_g_05_060_1' indicates that the frame belongs to the fifth gesture, which is performed by the second subject, it is the frame number 60, and it belongs to the base video.\n",
        "\n",
        "Some of the code snippets below may have bugs and/or can be optimized to improve performance. Feel free to correct and improve the code by editing and adding to the appropriate cells.\n",
        "\n",
        "If you do not have access to the computing resources required to train a ML based network, please include the full network architecture you propose, and fully functional code that will allow us to train the model on our end. You are free to choose the deep learning framework of your choice, or you may use an approach that is not deep learning based. \n",
        "\n",
        "The model must generalize to obtain high accuracy on data that was not included while training. Accuracy will be tested on a hidden test set.\n",
        "\n",
        "We expect you not to have to spend more than 4 hours on this task, including training time. Please feel free to mention in comments if there are further improvements you would have implemented in the future."
      ]
    },
    {
      "cell_type": "code",
      "metadata": {
        "id": "XVhtsPBeAhIs",
        "colab_type": "code",
        "outputId": "ecca4796-236f-4ebc-d82b-fbd20370aad2",
        "colab": {
          "base_uri": "https://localhost:8080/",
          "height": 35
        }
      },
      "source": [
        "from google.colab import drive\n",
        "drive.mount('/content/gdrive',force_remount=True)\n"
      ],
      "execution_count": 0,
      "outputs": [
        {
          "output_type": "stream",
          "text": [
            "Mounted at /content/gdrive\n"
          ],
          "name": "stdout"
        }
      ]
    },
    {
      "cell_type": "code",
      "metadata": {
        "id": "v8m15z_1Aqr5",
        "colab_type": "code",
        "outputId": "e29bce4b-1be9-425d-9310-cc3f8bb3df93",
        "colab": {
          "base_uri": "https://localhost:8080/",
          "height": 35
        }
      },
      "source": [
        "!ls /content/gdrive/'My Drive'/MicroVis_Challenge/depthGestRecog.tar.gz"
      ],
      "execution_count": 0,
      "outputs": [
        {
          "output_type": "stream",
          "text": [
            "'/content/gdrive/My Drive/MicroVis_Challenge/depthGestRecog.tar.gz'\n"
          ],
          "name": "stdout"
        }
      ]
    },
    {
      "cell_type": "code",
      "metadata": {
        "id": "bZnNf1pZBWHO",
        "colab_type": "code",
        "colab": {}
      },
      "source": [
        "import tarfile\n",
        "tar = tarfile.open('/content/gdrive/My Drive/MicroVis_Challenge/depthGestRecog.tar.gz', \"r:gz\")\n",
        "tar.extractall()"
      ],
      "execution_count": 0,
      "outputs": []
    },
    {
      "cell_type": "code",
      "metadata": {
        "id": "7kK4bmpOBp6y",
        "colab_type": "code",
        "outputId": "677fda54-8b52-43be-ac1b-46ebe84f34b1",
        "colab": {
          "base_uri": "https://localhost:8080/",
          "height": 54
        }
      },
      "source": [
        "!ls /content/depthGestRecog/"
      ],
      "execution_count": 0,
      "outputs": [
        {
          "output_type": "stream",
          "text": [
            "fist  one_finger  palm_lr  pick\t\t  thumb_d  thumb_ud\n",
            "grab  palm\t  palm_ud  three_fingers  thumb_u\n"
          ],
          "name": "stdout"
        }
      ]
    },
    {
      "cell_type": "code",
      "metadata": {
        "id": "xneMqk4q38Ib",
        "colab_type": "code",
        "colab": {}
      },
      "source": [
        "# Import any other libraries and frameworks you may be using\n",
        "\n",
        "import numpy as np\n",
        "import os\n",
        "import matplotlib.pyplot as plt\n",
        "%matplotlib inline\n",
        "from PIL import Image\n",
        "import tqdm"
      ],
      "execution_count": 0,
      "outputs": []
    },
    {
      "cell_type": "markdown",
      "metadata": {
        "id": "u14nqsgk38I7",
        "colab_type": "text"
      },
      "source": [
        "### Below cell is used to create a Python dictionary that maps the gesture string to a class number. The code is not optimal and there is a bug in the code that prevents it from executing. Please make changes as necessary."
      ]
    },
    {
      "cell_type": "code",
      "metadata": {
        "id": "omoIsFShLsQz",
        "colab_type": "code",
        "outputId": "5fef6442-b7fb-43e2-9f52-1965bb0870ad",
        "colab": {
          "base_uri": "https://localhost:8080/",
          "height": 219
        }
      },
      "source": [
        "os.listdir(data_dir)"
      ],
      "execution_count": 0,
      "outputs": [
        {
          "output_type": "execute_result",
          "data": {
            "text/plain": [
              "['grab',\n",
              " 'thumb_ud',\n",
              " 'palm_lr',\n",
              " 'three_fingers',\n",
              " 'palm_ud',\n",
              " 'one_finger',\n",
              " 'thumb_u',\n",
              " 'fist',\n",
              " 'thumb_d',\n",
              " 'pick',\n",
              " 'palm']"
            ]
          },
          "metadata": {
            "tags": []
          },
          "execution_count": 11
        }
      ]
    },
    {
      "cell_type": "code",
      "metadata": {
        "id": "f8TyBxZ7L7r0",
        "colab_type": "code",
        "outputId": "87695d51-915a-40fe-abe8-d42999e83dba",
        "colab": {
          "base_uri": "https://localhost:8080/",
          "height": 201
        }
      },
      "source": [
        "os.listdir(os.path.join(data_dir,'thumb_ud'))[:10]"
      ],
      "execution_count": 0,
      "outputs": [
        {
          "output_type": "execute_result",
          "data": {
            "text/plain": [
              "['video_moved_6_8',\n",
              " 'video_moved_1_8',\n",
              " 'video_base_5',\n",
              " 'video_moved_5_2',\n",
              " 'video_moved_4_8',\n",
              " 'video_moved_2_8',\n",
              " 'video_moved_3_5',\n",
              " 'video_base_1',\n",
              " 'video_base_3',\n",
              " 'video_moved_3_3']"
            ]
          },
          "metadata": {
            "tags": []
          },
          "execution_count": 10
        }
      ]
    },
    {
      "cell_type": "code",
      "metadata": {
        "id": "jzYDavLBMt_H",
        "colab_type": "code",
        "outputId": "b2bafb25-173b-49c8-a667-0b216d00dafb",
        "colab": {
          "base_uri": "https://localhost:8080/",
          "height": 35
        }
      },
      "source": [
        "os.listdir(os.path.join(data_dir,'thumb_ud','video_moved_6_6'))[0][5:7]"
      ],
      "execution_count": 0,
      "outputs": [
        {
          "output_type": "execute_result",
          "data": {
            "text/plain": [
              "'06'"
            ]
          },
          "metadata": {
            "tags": []
          },
          "execution_count": 9
        }
      ]
    },
    {
      "cell_type": "code",
      "metadata": {
        "id": "ulWLZdVh38JB",
        "colab_type": "code",
        "outputId": "1398f151-8a71-43df-d707-439cc2ff995a",
        "colab": {
          "base_uri": "https://localhost:8080/",
          "height": 219
        }
      },
      "source": [
        "data_dir = \"/content/depthGestRecog\"\n",
        "\n",
        "label_dict={}\n",
        "\n",
        "\n",
        "for label in os.listdir(data_dir):\n",
        "    for sub_dir in os.listdir(os.path.join(data_dir,label)):\n",
        "        class_num = int(os.listdir(os.path.join(data_dir,label,sub_dir))[0][5:7])\n",
        "\n",
        "    label_dict[label] = class_num\n",
        "    \n",
        "label_dict"
      ],
      "execution_count": 0,
      "outputs": [
        {
          "output_type": "execute_result",
          "data": {
            "text/plain": [
              "{'fist': 10,\n",
              " 'grab': 11,\n",
              " 'one_finger': 7,\n",
              " 'palm': 1,\n",
              " 'palm_lr': 3,\n",
              " 'palm_ud': 2,\n",
              " 'pick': 9,\n",
              " 'three_fingers': 8,\n",
              " 'thumb_d': 4,\n",
              " 'thumb_u': 5,\n",
              " 'thumb_ud': 6}"
            ]
          },
          "metadata": {
            "tags": []
          },
          "execution_count": 48
        }
      ]
    },
    {
      "cell_type": "code",
      "metadata": {
        "id": "UoCxh9OCWttC",
        "colab_type": "code",
        "outputId": "9f6182ca-c8f3-428e-8166-89abf76df981",
        "colab": {
          "base_uri": "https://localhost:8080/",
          "height": 35
        }
      },
      "source": [
        "len(label_dict)"
      ],
      "execution_count": 0,
      "outputs": [
        {
          "output_type": "execute_result",
          "data": {
            "text/plain": [
              "11"
            ]
          },
          "metadata": {
            "tags": []
          },
          "execution_count": 9
        }
      ]
    },
    {
      "cell_type": "markdown",
      "metadata": {
        "id": "0drrrcoz38JY",
        "colab_type": "text"
      },
      "source": [
        "### Starter code to load data has been provided. Edit as necessary to change dimensions and optimize"
      ]
    },
    {
      "cell_type": "code",
      "metadata": {
        "id": "61eVyB0T38Je",
        "colab_type": "code",
        "colab": {}
      },
      "source": [
        "x = []\n",
        "y = []\n",
        "data_num = 0\n",
        "\n",
        "for root, _, files in os.walk(data_dir):\n",
        "    for i in range(len(files)):\n",
        "      \n",
        "        I = Image.open((os.path.join(root,files[i]))).convert('L')\n",
        "        arr = np.array(I)\n",
        "        x.append(arr)\n",
        "        y.append((int(files[i][5:7])))\n",
        "        data_num+=1\n",
        "        \n",
        "x = np.asarray(x, dtype=np.float32) \n"
      ],
      "execution_count": 0,
      "outputs": []
    },
    {
      "cell_type": "code",
      "metadata": {
        "id": "Vr9iT3Mr3K4q",
        "colab_type": "code",
        "colab": {}
      },
      "source": [
        "x/=255"
      ],
      "execution_count": 0,
      "outputs": []
    },
    {
      "cell_type": "code",
      "metadata": {
        "id": "4Pw7YNKUvrjR",
        "colab_type": "code",
        "outputId": "a378de65-c399-40b6-89c9-b1063daceb17",
        "colab": {
          "base_uri": "https://localhost:8080/",
          "height": 35
        }
      },
      "source": [
        "x.shape, data_num"
      ],
      "execution_count": 0,
      "outputs": [
        {
          "output_type": "execute_result",
          "data": {
            "text/plain": [
              "((59400, 100, 100), 59400)"
            ]
          },
          "metadata": {
            "tags": []
          },
          "execution_count": 12
        }
      ]
    },
    {
      "cell_type": "code",
      "metadata": {
        "id": "ZwCZb1M3W7cX",
        "colab_type": "code",
        "outputId": "0eba28f6-7c21-4968-f44e-4f3aaa6b701d",
        "colab": {
          "base_uri": "https://localhost:8080/",
          "height": 2537
        }
      },
      "source": [
        "for i in range(0, 10):\n",
        "  \n",
        "  \n",
        "    plt.figure()\n",
        "    plt.imshow(x[i*500 , :, :])\n"
      ],
      "execution_count": 0,
      "outputs": [
        {
          "output_type": "display_data",
          "data": {
            "image/png": "[encoded data removed]",
            "text/plain": [
              "<Figure size 432x288 with 1 Axes>"
            ]
          },
          "metadata": {
            "tags": []
          }
        },
        {
          "output_type": "display_data",
          "data": {
            "image/png": "[encoded data removed]",
            "text/plain": [
              "<Figure size 432x288 with 1 Axes>"
            ]
          },
          "metadata": {
            "tags": []
          }
        },
        {
          "output_type": "display_data",
          "data": {
            "image/png": "[encoded data removed]",
            "text/plain": [
              "<Figure size 432x288 with 1 Axes>"
            ]
          },
          "metadata": {
            "tags": []
          }
        },
        {
          "output_type": "display_data",
          "data": {
            "image/png": "[encoded data removed]",
            "text/plain": [
              "<Figure size 432x288 with 1 Axes>"
            ]
          },
          "metadata": {
            "tags": []
          }
        },
        {
          "output_type": "display_data",
          "data": {
            "image/png": "[encoded data removed]",
            "text/plain": [
              "<Figure size 432x288 with 1 Axes>"
            ]
          },
          "metadata": {
            "tags": []
          }
        },
        {
          "output_type": "display_data",
          "data": {
            "image/png": "[encoded data removed]",
            "text/plain": [
              "<Figure size 432x288 with 1 Axes>"
            ]
          },
          "metadata": {
            "tags": []
          }
        },
        {
          "output_type": "display_data",
          "data": {
            "image/png": "[encoded data removed]",
            "text/plain": [
              "<Figure size 432x288 with 1 Axes>"
            ]
          },
          "metadata": {
            "tags": []
          }
        },
        {
          "output_type": "display_data",
          "data": {
            "image/png": "[encoded data removed]",
            "text/plain": [
              "<Figure size 432x288 with 1 Axes>"
            ]
          },
          "metadata": {
            "tags": []
          }
        },
        {
          "output_type": "display_data",
          "data": {
            "image/png": "[encoded data removed]",
            "text/plain": [
              "<Figure size 432x288 with 1 Axes>"
            ]
          },
          "metadata": {
            "tags": []
          }
        },
        {
          "output_type": "display_data",
          "data": {
            "image/png": "[encoded data removed]",
            "text/plain": [
              "<Figure size 432x288 with 1 Axes>"
            ]
          },
          "metadata": {
            "tags": []
          }
        }
      ]
    },
    {
      "cell_type": "markdown",
      "metadata": {
        "id": "ZJqIoM6I38Jy",
        "colab_type": "text"
      },
      "source": [
        "### To Do: Convert labels to one-hot encoded vectors"
      ]
    },
    {
      "cell_type": "code",
      "metadata": {
        "id": "bqACFZRi38J1",
        "colab_type": "code",
        "colab": {}
      },
      "source": [
        "# Please implement (from scratch) a function that converts the labels to one-hot encoded vectors\n",
        "\n",
        "def encode_onehot(l):\n",
        "  encoded = []\n",
        "  m = len(np.unique(l))\n",
        "  for i in l:\n",
        "    z = np.zeros(m)\n",
        "    z[i-1] = 1\n",
        "    encoded.append(z)\n",
        "    \n",
        "  return encoded"
      ],
      "execution_count": 0,
      "outputs": []
    },
    {
      "cell_type": "code",
      "metadata": {
        "id": "tei7q-yL8-z7",
        "colab_type": "code",
        "colab": {}
      },
      "source": [
        "y = encode_onehot(y)"
      ],
      "execution_count": 0,
      "outputs": []
    },
    {
      "cell_type": "code",
      "metadata": {
        "id": "VDmKsDJSLl4e",
        "colab_type": "code",
        "outputId": "1baf4f31-9639-4805-ef4f-9b758d2279f3",
        "colab": {
          "base_uri": "https://localhost:8080/",
          "height": 35
        }
      },
      "source": [
        "y=np.asarray(y)\n",
        "y[0]"
      ],
      "execution_count": 0,
      "outputs": [
        {
          "output_type": "execute_result",
          "data": {
            "text/plain": [
              "array([1., 0., 0., 0., 0., 0., 0., 0., 0., 0., 0.])"
            ]
          },
          "metadata": {
            "tags": []
          },
          "execution_count": 15
        }
      ]
    },
    {
      "cell_type": "markdown",
      "metadata": {
        "id": "RhutFSOA38KE",
        "colab_type": "text"
      },
      "source": [
        "### To Do: Split dataset into training and validation sets"
      ]
    },
    {
      "cell_type": "code",
      "metadata": {
        "id": "Rs3Eut8E38KJ",
        "colab_type": "code",
        "colab": {}
      },
      "source": [
        "# You may perform this by using your own functions or using an existing library module\n",
        "\n",
        "x = x.reshape((59400, 100, 100, 1))\n",
        "\n",
        "from sklearn.model_selection import train_test_split\n",
        "\n",
        "x_train, x_testval, y_train, y_testval = train_test_split(x, y, test_size = 0.2)\n",
        "x_val, x_test, y_val, y_test = train_test_split(x_testval, y_testval, test_size = 0.5)"
      ],
      "execution_count": 0,
      "outputs": []
    },
    {
      "cell_type": "markdown",
      "metadata": {
        "id": "yiaSWHzr38Ka",
        "colab_type": "text"
      },
      "source": [
        "### To Do: Visualize a few entries from dataset (Use matplotlib/OpenCV/PIL libraries)\n",
        "\n",
        "Note : Visualized before reshaping x above , after loading the data."
      ]
    },
    {
      "cell_type": "code",
      "metadata": {
        "id": "sdrwXK7x38Kg",
        "colab_type": "code",
        "colab": {}
      },
      "source": [
        "#for i in range(0, 10):\n",
        "#  \n",
        "#  \n",
        "#    plt.figure()\n",
        "#    plt.imshow(x[i*500 , :, :])\n"
      ],
      "execution_count": 0,
      "outputs": []
    },
    {
      "cell_type": "markdown",
      "metadata": {
        "id": "ezINRxQz38Kx",
        "colab_type": "text"
      },
      "source": [
        "### To Do (Optional): Perform pre-processing/augmentation/fine-tuning if necessary"
      ]
    },
    {
      "cell_type": "code",
      "metadata": {
        "id": "n3H33KAp38K4",
        "colab_type": "code",
        "colab": {}
      },
      "source": [
        ""
      ],
      "execution_count": 0,
      "outputs": []
    },
    {
      "cell_type": "markdown",
      "metadata": {
        "id": "OgKg2OXZ38LL",
        "colab_type": "text"
      },
      "source": [
        "### To Do: Define Network Architecture and Hyperparameters\n"
      ]
    },
    {
      "cell_type": "code",
      "metadata": {
        "id": "awYo40kG38LU",
        "colab_type": "code",
        "outputId": "b90a5f9d-57b7-4088-e01f-23f9091cb6e7",
        "colab": {
          "base_uri": "https://localhost:8080/",
          "height": 166
        }
      },
      "source": [
        "#Define learning_rate, n_of_epochs, batch_size etc.\n",
        "\n",
        "\n",
        "#Please mention in comments your rationale behind selecting architecture, loss function, optimizers and  \n",
        "#other hyperparameters, with an overview of approach taken \n",
        "\n",
        "import keras\n",
        "from keras import layers\n",
        "from keras import models\n",
        "from keras.layers.normalization import BatchNormalization\n",
        "from keras.layers import Dropout\n",
        "\n",
        "model=models.Sequential()\n",
        "model.add(layers.Conv2D(32, (3, 3), strides=(3, 3), activation='relu', input_shape=(100, 100,1))) \n",
        "model.add(layers.MaxPooling2D((2, 2)))\n",
        "model.add(BatchNormalization())\n",
        "\n",
        "model.add(layers.Conv2D(64, (3, 3), activation='relu')) \n",
        "model.add(layers.MaxPooling2D((2, 2)))\n",
        "model.add(BatchNormalization())\n",
        "\n",
        "model.add(layers.Conv2D(64, (3, 3), activation='relu'))\n",
        "model.add(layers.MaxPooling2D((2, 2)))\n",
        "model.add(BatchNormalization())\n",
        "\n",
        "\n",
        "model.add(layers.Flatten())\n",
        "model.add(layers.Dense(128, activation='relu'))\n",
        "model.add(Dropout(0.7))\n",
        "model.add(layers.Dense(11, activation='softmax'))\n",
        "\n"
      ],
      "execution_count": 0,
      "outputs": [
        {
          "output_type": "stream",
          "text": [
            "Using TensorFlow backend.\n"
          ],
          "name": "stderr"
        },
        {
          "output_type": "stream",
          "text": [
            "WARNING:tensorflow:From /usr/local/lib/python3.6/dist-packages/tensorflow/python/framework/op_def_library.py:263: colocate_with (from tensorflow.python.framework.ops) is deprecated and will be removed in a future version.\n",
            "Instructions for updating:\n",
            "Colocations handled automatically by placer.\n",
            "WARNING:tensorflow:From /usr/local/lib/python3.6/dist-packages/keras/backend/tensorflow_backend.py:3445: calling dropout (from tensorflow.python.ops.nn_ops) with keep_prob is deprecated and will be removed in a future version.\n",
            "Instructions for updating:\n",
            "Please use `rate` instead of `keep_prob`. Rate should be set to `rate = 1 - keep_prob`.\n"
          ],
          "name": "stdout"
        }
      ]
    },
    {
      "cell_type": "code",
      "metadata": {
        "id": "qpaoRSozcjiJ",
        "colab_type": "code",
        "outputId": "d017671c-fd86-42af-fab8-098bb34ac77c",
        "colab": {
          "base_uri": "https://localhost:8080/",
          "height": 661
        }
      },
      "source": [
        "model.compile(optimizer='rmsprop',loss='categorical_crossentropy',metrics=['accuracy'])\n",
        "\n",
        "model_history = model.fit(\n",
        "    x_train, y_train,\n",
        "    batch_size = 32,\n",
        "    epochs = 15, \n",
        "    verbose=1, \n",
        "    validation_data=(x_val, y_val))\n"
      ],
      "execution_count": 0,
      "outputs": [
        {
          "output_type": "stream",
          "text": [
            "WARNING:tensorflow:From /usr/local/lib/python3.6/dist-packages/tensorflow/python/ops/math_ops.py:3066: to_int32 (from tensorflow.python.ops.math_ops) is deprecated and will be removed in a future version.\n",
            "Instructions for updating:\n",
            "Use tf.cast instead.\n",
            "Train on 47520 samples, validate on 5940 samples\n",
            "Epoch 1/15\n",
            "47520/47520 [==============================] - 121s 3ms/step - loss: 0.9639 - acc: 0.6801 - val_loss: 0.5114 - val_acc: 0.8148\n",
            "Epoch 2/15\n",
            "47520/47520 [==============================] - 121s 3ms/step - loss: 0.4633 - acc: 0.8473 - val_loss: 0.2209 - val_acc: 0.9273\n",
            "Epoch 3/15\n",
            "47520/47520 [==============================] - 122s 3ms/step - loss: 0.3439 - acc: 0.8912 - val_loss: 0.2684 - val_acc: 0.9086\n",
            "Epoch 4/15\n",
            "47520/47520 [==============================] - 124s 3ms/step - loss: 0.2779 - acc: 0.9120 - val_loss: 0.2167 - val_acc: 0.9374\n",
            "Epoch 5/15\n",
            "47520/47520 [==============================] - 124s 3ms/step - loss: 0.2370 - acc: 0.9237 - val_loss: 0.1879 - val_acc: 0.9313\n",
            "Epoch 6/15\n",
            "47520/47520 [==============================] - 124s 3ms/step - loss: 0.2121 - acc: 0.9349 - val_loss: 0.1850 - val_acc: 0.9369\n",
            "Epoch 7/15\n",
            "47520/47520 [==============================] - 124s 3ms/step - loss: 0.1958 - acc: 0.9409 - val_loss: 0.2282 - val_acc: 0.9503\n",
            "Epoch 8/15\n",
            "47520/47520 [==============================] - 124s 3ms/step - loss: 0.1740 - acc: 0.9468 - val_loss: 0.2851 - val_acc: 0.9098\n",
            "Epoch 9/15\n",
            "47520/47520 [==============================] - 124s 3ms/step - loss: 0.1630 - acc: 0.9509 - val_loss: 0.4768 - val_acc: 0.8662\n",
            "Epoch 10/15\n",
            "47520/47520 [==============================] - 124s 3ms/step - loss: 0.1551 - acc: 0.9537 - val_loss: 0.2072 - val_acc: 0.9347\n",
            "Epoch 11/15\n",
            "47520/47520 [==============================] - 125s 3ms/step - loss: 0.1367 - acc: 0.9594 - val_loss: 0.0877 - val_acc: 0.9771\n",
            "Epoch 12/15\n",
            "47520/47520 [==============================] - 124s 3ms/step - loss: 0.1307 - acc: 0.9609 - val_loss: 0.1095 - val_acc: 0.9657\n",
            "Epoch 13/15\n",
            "47520/47520 [==============================] - 123s 3ms/step - loss: 0.1265 - acc: 0.9637 - val_loss: 0.1101 - val_acc: 0.9744\n",
            "Epoch 14/15\n",
            "47520/47520 [==============================] - 124s 3ms/step - loss: 0.1178 - acc: 0.9659 - val_loss: 0.0780 - val_acc: 0.9845\n",
            "Epoch 15/15\n",
            "47520/47520 [==============================] - 123s 3ms/step - loss: 0.1107 - acc: 0.9679 - val_loss: 0.1150 - val_acc: 0.9731\n"
          ],
          "name": "stdout"
        }
      ]
    },
    {
      "cell_type": "markdown",
      "metadata": {
        "id": "Bh1Jz3Yi38Lv",
        "colab_type": "text"
      },
      "source": [
        "### To Do: Plot Training/Validation Losses, and Calculate Accuracy"
      ]
    },
    {
      "cell_type": "code",
      "metadata": {
        "id": "fiwZ8jah38Ly",
        "colab_type": "code",
        "outputId": "02bf95b9-4a88-4aea-c1f1-18323b4b6bf0",
        "colab": {
          "base_uri": "https://localhost:8080/",
          "height": 283
        }
      },
      "source": [
        "# 1) Using matplotlib, plot training loss, validation loss, training accuracy and \n",
        "#    validation accuracy with respect to epochs\n",
        "\n",
        "training_loss = model_history.history['loss']\n",
        "validation_loss = model_history.history['val_loss']\n",
        "\n",
        "epoch_num = range(1, len(training_loss) + 1)\n",
        "\n",
        "plt.plot(epoch_num, training_loss, 'r--')\n",
        "plt.plot(epoch_num, validation_loss, 'b-')\n",
        "plt.legend(['Training Loss', 'Validation Loss'])\n",
        "plt.xlabel('Epoch')\n",
        "plt.ylabel('Loss')\n",
        "plt.show()\n",
        "\n"
      ],
      "execution_count": 0,
      "outputs": [
        {
          "output_type": "display_data",
          "data": {
            "image/png": "[encoded data removed]",
            "text/plain": [
              "<Figure size 432x288 with 1 Axes>"
            ]
          },
          "metadata": {
            "tags": []
          }
        }
      ]
    },
    {
      "cell_type": "code",
      "metadata": {
        "id": "2_nQCIE6SpO6",
        "colab_type": "code",
        "colab": {}
      },
      "source": [
        "# 2) Define a function that takes in as input an array of 'n' images, and a list of 'n' corresponding \n",
        "#    class labels, and returns average classification accuracy.\n",
        "\n",
        "def classify_test(n):\n",
        "  \n",
        "  x_c = x_test[0:n-1]\n",
        "  y_c = y_test[0:n-1]  \n",
        "  \n",
        "  [test_loss, test_acc] = model.evaluate(x_c, y_c, verbose = 1)\n",
        "  print(\"Accuracy:\" + str(test_acc * 100) + '%')\n",
        "  "
      ],
      "execution_count": 0,
      "outputs": []
    },
    {
      "cell_type": "code",
      "metadata": {
        "id": "ljBDruSQUgS7",
        "colab_type": "code",
        "outputId": "0933e693-e2f3-483b-d3a1-1a85de5ee0b9",
        "colab": {
          "base_uri": "https://localhost:8080/",
          "height": 54
        }
      },
      "source": [
        "classify_test(1000)"
      ],
      "execution_count": 0,
      "outputs": [
        {
          "output_type": "stream",
          "text": [
            "999/999 [==============================] - 1s 767us/step\n",
            "Accuracy:98.3983983983984%\n"
          ],
          "name": "stdout"
        }
      ]
    },
    {
      "cell_type": "code",
      "metadata": {
        "id": "CYNNNJ_dU4nr",
        "colab_type": "code",
        "outputId": "29becb33-3a9a-4fc5-bcdf-a90795263d44",
        "colab": {
          "base_uri": "https://localhost:8080/",
          "height": 54
        }
      },
      "source": [
        "classify_test(len(x_test))"
      ],
      "execution_count": 0,
      "outputs": [
        {
          "output_type": "stream",
          "text": [
            "5939/5939 [==============================] - 5s 806us/step\n",
            "Accuracy:97.15440309816468%\n"
          ],
          "name": "stdout"
        }
      ]
    }
  ]
}